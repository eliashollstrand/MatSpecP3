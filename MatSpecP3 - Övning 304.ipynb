{
 "cells": [
  {
   "cell_type": "markdown",
   "id": "ac83fc6b",
   "metadata": {},
   "source": [
    "# Task 1"
   ]
  },
  {
   "cell_type": "markdown",
   "id": "ac43824b",
   "metadata": {},
   "source": [
    "## $ S_{k+1}=S_{k}-b\\cdot I_{k}\\cdot S_{k} $"
   ]
  },
  {
   "cell_type": "markdown",
   "id": "95825b4d",
   "metadata": {},
   "source": [
    "Formeln beskriver antalet mottagliga individer som differensen mellan antalet mottagliga dagen innan och "
   ]
  },
  {
   "cell_type": "code",
   "execution_count": null,
   "id": "2371c690",
   "metadata": {},
   "outputs": [],
   "source": []
  }
 ],
 "metadata": {
  "kernelspec": {
   "display_name": "Python 3 (ipykernel)",
   "language": "python",
   "name": "python3"
  },
  "language_info": {
   "codemirror_mode": {
    "name": "ipython",
    "version": 3
   },
   "file_extension": ".py",
   "mimetype": "text/x-python",
   "name": "python",
   "nbconvert_exporter": "python",
   "pygments_lexer": "ipython3",
   "version": "3.9.7"
  }
 },
 "nbformat": 4,
 "nbformat_minor": 5
}
