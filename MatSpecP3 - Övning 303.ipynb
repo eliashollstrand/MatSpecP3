{
 "cells": [
  {
   "cell_type": "code",
   "execution_count": 24,
   "id": "4923b2ab",
   "metadata": {},
   "outputs": [],
   "source": [
    "import numpy as np\n",
    "from numpy.linalg import matrix_power\n",
    "from tabulate import tabulate\n",
    "\n",
    "#np.random.seed(1000)\n",
    "weatherStates = np.array(['Sunny', 'Cloudy', 'Rainy', 'Snowy'])\n",
    "\n",
    "#Transition matrix\n",
    "T = np.array([[0.65, 0.13, 0.08, 0.27], \n",
    "               [0.22, 0.55, 0.65, 0.55],\n",
    "               [0.11, 0.25, 0.25, 0.03],\n",
    "               [0.02, 0.07, 0.02, 0.15]])"
   ]
  },
  {
   "cell_type": "code",
   "execution_count": 25,
   "id": "a699690f",
   "metadata": {},
   "outputs": [
    {
     "name": "stdout",
     "output_type": "stream",
     "text": [
      "MATRIX MULTIPLICATION APPROACH:\n",
      "\n",
      "If the weather today is Sunny the probabilities on day 3 are:\n",
      "\n",
      "Weather      Probability\n",
      "---------  -------------\n",
      "Sunny             0.3689\n",
      "Cloudy            0.4119\n",
      "Rainy             0.1775\n",
      "Snowy             0.0417\n",
      "\n",
      "If the weather today is Sunny the probabilities on day 5 are:\n",
      "\n",
      "Weather      Probability\n",
      "---------  -------------\n",
      "Sunny             0.2928\n",
      "Cloudy            0.4637\n",
      "Rainy             0.1952\n",
      "Snowy             0.0483\n",
      "\n",
      "If the weather today is Sunny the probabilities on day 10 are:\n",
      "\n",
      "Weather      Probability\n",
      "---------  -------------\n",
      "Sunny             0.2657\n",
      "Cloudy            0.4821\n",
      "Rainy             0.2015\n",
      "Snowy             0.0506\n",
      "\n",
      "If the weather today is Sunny the probabilities on day 100 are:\n",
      "\n",
      "Weather      Probability\n",
      "---------  -------------\n",
      "Sunny             0.2646\n",
      "Cloudy            0.4829\n",
      "Rainy             0.2018\n",
      "Snowy             0.0507\n"
     ]
    }
   ],
   "source": [
    "#MATRIX MULTIPLICATION APPROACH\n",
    "\n",
    "def calc_probability(day, weatherToday):\n",
    "    today = np.zeros((4, 1))  \n",
    "    \n",
    "    for i in range(len(weatherStates)):\n",
    "        if(weatherStates[i] == weatherToday):\n",
    "            today[i] = 1\n",
    "            \n",
    "    p = np.matmul(matrix_power(T, day), today)\n",
    "    \n",
    "    print(f\"\\nIf the weather today is {weatherToday} the probabilities on day {day} are:\\n\")\n",
    "    \n",
    "    table = zip(weatherStates, p)\n",
    "    print(tabulate(table, headers=['Weather', 'Probability'], floatfmt=\".4f\"))\n",
    "    \n",
    "        \n",
    "print(\"MATRIX MULTIPLICATION APPROACH:\")\n",
    "today = 'Sunny'            \n",
    "calc_probability(3, today)\n",
    "calc_probability(5, today)\n",
    "calc_probability(10, today)\n",
    "calc_probability(100, today)"
   ]
  },
  {
   "cell_type": "code",
   "execution_count": null,
   "id": "5df7009f",
   "metadata": {},
   "outputs": [],
   "source": []
  },
  {
   "cell_type": "code",
   "execution_count": 32,
   "id": "9e8103f7",
   "metadata": {},
   "outputs": [
    {
     "name": "stdout",
     "output_type": "stream",
     "text": [
      "Sunny ---> Sunny ---> Rainy ---> Cloudy ---> Sunny ---> Sunny ---> Sunny ---> Sunny ---> Rainy ---> Sunny ---> Sunny ---> Cloudy ---> Sunny ---> Sunny ---> Cloudy ---> Rainy ---> Sunny ---> Sunny ---> Cloudy ---> Sunny ---> Sunny ---> Cloudy ---> Sunny ---> Rainy ---> Sunny ---> Sunny ---> Sunny ---> Rainy ---> Sunny ---> Cloudy ---> Sunny ---> Sunny ---> Sunny ---> Sunny ---> Rainy ---> Sunny ---> Sunny ---> Sunny ---> Sunny ---> Snowy ---> Rainy ---> Sunny ---> Cloudy ---> Sunny ---> Rainy ---> Sunny ---> Sunny ---> Cloudy ---> Sunny ---> Snowy ---> Sunny ---> Sunny ---> Sunny ---> Cloudy ---> Sunny ---> Cloudy ---> Sunny ---> Sunny ---> Rainy ---> Cloudy ---> Cloudy ---> Sunny ---> Sunny ---> Sunny ---> Snowy ---> Sunny ---> Snowy ---> Rainy ---> Sunny ---> Cloudy ---> Sunny ---> Rainy ---> Cloudy ---> Sunny ---> Sunny ---> Rainy ---> Sunny ---> Rainy ---> Sunny ---> Sunny ---> Sunny ---> Sunny ---> Sunny ---> Sunny ---> Cloudy ---> Sunny ---> Sunny ---> Sunny ---> Sunny ---> Sunny ---> Sunny ---> Sunny ---> Sunny ---> Sunny ---> Cloudy ---> Sunny ---> Sunny ---> Sunny ---> Sunny ---> Sunny ---> Sunny ---> Sunny ---> Sunny ---> Rainy ---> Sunny ---> Sunny ---> Rainy ---> Sunny ---> Sunny ---> Sunny ---> Cloudy ---> Sunny ---> Cloudy ---> Sunny ---> Sunny ---> Cloudy ---> Sunny ---> Sunny ---> Cloudy ---> Sunny ---> Sunny ---> Sunny ---> Cloudy ---> Sunny ---> Cloudy ---> Sunny ---> Cloudy ---> Sunny ---> Sunny ---> Sunny ---> Sunny ---> Sunny ---> Sunny ---> Sunny ---> Sunny ---> Sunny ---> Sunny ---> Sunny ---> Cloudy ---> Rainy ---> Cloudy ---> Cloudy ---> Sunny ---> Rainy ---> Cloudy ---> Rainy ---> Sunny ---> Sunny ---> Rainy ---> Sunny ---> Sunny ---> Sunny ---> Sunny ---> Sunny ---> Cloudy ---> Sunny ---> Cloudy ---> Sunny ---> Sunny ---> Cloudy ---> Sunny ---> Cloudy ---> Sunny ---> Rainy ---> Sunny ---> Sunny ---> Cloudy ---> Sunny ---> Sunny ---> Rainy ---> Rainy ---> Cloudy ---> Sunny ---> Sunny ---> Sunny ---> Cloudy ---> Sunny ---> Sunny ---> Sunny ---> Rainy ---> Sunny ---> Sunny ---> Cloudy ---> Cloudy ---> Sunny ---> Sunny ---> Sunny ---> Sunny ---> Sunny ---> Sunny ---> Sunny ---> Sunny ---> Sunny ---> Cloudy ---> Sunny ---> Rainy ---> Rainy ---> Sunny ---> Cloudy ---> Rainy ---> Sunny ---> Sunny ---> Sunny ---> Sunny ---> Sunny ---> Snowy ---> Cloudy ---> Sunny ---> Sunny ---> Cloudy ---> Sunny ---> Rainy ---> Sunny ---> Sunny ---> Sunny ---> Sunny ---> Cloudy ---> Cloudy ---> Rainy ---> Cloudy ---> Sunny ---> Sunny ---> Cloudy ---> Cloudy ---> Snowy ---> Sunny ---> Sunny ---> Sunny ---> Sunny ---> Sunny ---> Cloudy ---> Sunny ---> Sunny ---> Sunny ---> Sunny ---> Sunny ---> Sunny ---> Sunny ---> Cloudy ---> Sunny ---> Cloudy ---> Cloudy ---> Rainy ---> Sunny ---> Sunny ---> Rainy ---> Sunny ---> Sunny ---> Sunny ---> Rainy ---> Sunny ---> Sunny ---> Sunny ---> Cloudy ---> Sunny ---> Sunny ---> Sunny ---> Sunny ---> Sunny ---> Sunny ---> Sunny ---> Sunny ---> Cloudy ---> Sunny ---> Sunny ---> Sunny ---> Rainy ---> Sunny ---> Cloudy ---> Sunny ---> Sunny ---> Sunny ---> Cloudy ---> Sunny ---> Sunny ---> Rainy ---> Sunny ---> Sunny ---> Sunny ---> Sunny ---> Sunny ---> Sunny ---> Cloudy ---> Cloudy ---> Sunny ---> Sunny ---> Sunny ---> Rainy ---> Sunny ---> Snowy ---> Sunny ---> Rainy ---> Rainy ---> Rainy ---> Sunny ---> Sunny ---> Sunny ---> Rainy ---> Cloudy ---> Sunny ---> Sunny ---> Sunny ---> Sunny ---> Sunny ---> Cloudy ---> Sunny ---> Sunny ---> Sunny ---> Sunny ---> Cloudy ---> Sunny ---> Sunny ---> Sunny ---> Sunny ---> Sunny ---> Sunny ---> Sunny ---> Sunny ---> Sunny ---> Cloudy ---> Sunny ---> Sunny ---> Sunny ---> Sunny ---> Sunny ---> Sunny ---> Sunny ---> Rainy ---> Cloudy ---> Cloudy ---> Sunny ---> Cloudy ---> Sunny ---> Sunny ---> Sunny ---> Sunny ---> Sunny ---> Sunny ---> Sunny ---> Sunny ---> Cloudy ---> Sunny ---> Sunny ---> Sunny ---> Sunny ---> Cloudy ---> Sunny ---> Sunny ---> Sunny ---> Rainy ---> Sunny ---> Rainy ---> Cloudy ---> Sunny ---> Sunny ---> Cloudy ---> Sunny ---> Sunny ---> Rainy ---> Cloudy ---> Cloudy ---> Sunny ---> Rainy ---> Rainy ---> Sunny ---> Sunny ---> Sunny ---> Rainy ---> Cloudy ---> Sunny ---> Sunny ---> Sunny ---> Sunny ---> Cloudy ---> Cloudy ---> Cloudy ---> Sunny ---> Cloudy ---> Sunny ---> Sunny ---> Rainy ---> Rainy ---> Sunny ---> Sunny ---> Rainy ---> Sunny ---> Cloudy ---> Cloudy ---> Sunny ---> Sunny ---> Sunny ---> Sunny ---> Sunny ---> Rainy ---> Sunny ---> Sunny ---> Sunny ---> Cloudy ---> Cloudy ---> Sunny ---> Sunny ---> Sunny ---> Rainy ---> Sunny ---> Sunny ---> Sunny ---> Sunny ---> Sunny ---> Sunny ---> Sunny ---> Sunny ---> Rainy ---> Sunny ---> Cloudy ---> Sunny ---> Cloudy ---> Sunny ---> Sunny ---> Sunny ---> Rainy ---> Sunny ---> Sunny ---> Sunny ---> Sunny ---> Rainy ---> Sunny ---> Sunny ---> Sunny ---> Sunny ---> Sunny ---> Cloudy ---> Sunny ---> Sunny ---> Sunny ---> Cloudy ---> Sunny ---> Sunny ---> Cloudy ---> Sunny ---> Sunny ---> Cloudy ---> Sunny ---> Sunny ---> Snowy ---> Sunny ---> Sunny ---> Sunny ---> Sunny ---> Rainy ---> Sunny ---> Sunny ---> Sunny ---> Cloudy ---> Sunny ---> Sunny ---> Sunny ---> Sunny ---> Sunny ---> Sunny ---> Sunny ---> Sunny ---> Rainy ---> Sunny ---> Cloudy ---> Sunny ---> Sunny ---> Cloudy ---> Cloudy ---> Sunny ---> Sunny ---> Snowy ---> Cloudy ---> Sunny ---> Cloudy ---> Sunny ---> Sunny ---> Cloudy ---> Sunny ---> Cloudy ---> Sunny ---> Cloudy ---> Rainy ---> Sunny ---> Sunny ---> Sunny ---> Rainy ---> Cloudy ---> Snowy ---> Sunny ---> Cloudy ---> Cloudy ---> Sunny ---> Sunny ---> Sunny ---> Sunny ---> Cloudy ---> Cloudy ---> Snowy ---> Sunny ---> Sunny ---> Sunny ---> Sunny ---> Sunny ---> Sunny ---> Cloudy ---> Sunny ---> Cloudy ---> Sunny ---> Sunny ---> Sunny ---> Sunny ---> Sunny ---> Sunny ---> Sunny ---> Sunny ---> Cloudy ---> Rainy ---> Sunny ---> Cloudy ---> Sunny ---> Sunny ---> Sunny ---> Cloudy ---> Rainy ---> Sunny ---> Sunny ---> Sunny ---> Cloudy ---> Sunny ---> Cloudy ---> Snowy ---> Sunny ---> Sunny ---> Sunny ---> Sunny ---> Sunny ---> Sunny ---> Rainy ---> Sunny ---> Sunny ---> Sunny ---> Sunny ---> Cloudy ---> Sunny ---> Sunny ---> Sunny ---> Sunny ---> Sunny ---> Sunny ---> Rainy ---> Cloudy ---> Sunny ---> Sunny ---> Snowy ---> Sunny ---> Sunny ---> Sunny ---> Sunny ---> Cloudy ---> Sunny ---> Cloudy ---> Cloudy ---> Rainy ---> Sunny ---> Cloudy ---> Cloudy ---> Cloudy ---> Cloudy ---> Cloudy ---> Sunny ---> Sunny ---> Sunny ---> Cloudy ---> Sunny ---> Sunny ---> Rainy ---> Cloudy ---> Cloudy ---> Sunny ---> Sunny ---> Sunny ---> Sunny ---> Sunny ---> Sunny ---> Rainy ---> Cloudy ---> Cloudy ---> Sunny ---> Cloudy ---> Sunny ---> Sunny ---> Sunny ---> Rainy ---> Sunny ---> Cloudy ---> Sunny ---> Sunny ---> Sunny ---> Sunny ---> Sunny ---> Snowy ---> Sunny ---> Sunny ---> Sunny ---> Cloudy ---> Sunny ---> Sunny ---> Snowy ---> Sunny ---> Sunny ---> Sunny ---> Sunny ---> Sunny ---> Cloudy ---> Sunny ---> Sunny ---> Sunny ---> Sunny ---> Cloudy ---> Cloudy ---> Sunny ---> Sunny ---> Sunny ---> Cloudy ---> Sunny ---> Sunny ---> Cloudy ---> Cloudy ---> Sunny ---> Sunny ---> Cloudy ---> Sunny ---> Sunny ---> Cloudy ---> Sunny ---> Cloudy ---> Sunny ---> Sunny ---> Rainy ---> Cloudy ---> Cloudy ---> Cloudy ---> Sunny ---> Cloudy ---> Sunny ---> Sunny ---> Sunny ---> Sunny ---> Sunny ---> Sunny ---> Sunny ---> Cloudy ---> Sunny ---> Sunny ---> Sunny ---> Sunny ---> Sunny ---> Sunny ---> Cloudy ---> Cloudy ---> Sunny ---> Sunny ---> Rainy ---> Cloudy ---> Snowy ---> Sunny ---> Sunny ---> Sunny ---> Sunny ---> Sunny ---> Rainy ---> Sunny ---> Sunny ---> Cloudy ---> Sunny ---> Cloudy ---> Sunny ---> Rainy ---> Sunny ---> Sunny ---> Snowy ---> Sunny ---> Sunny ---> Sunny ---> Sunny ---> Sunny ---> Rainy ---> Sunny ---> Sunny ---> Cloudy ---> Sunny ---> Cloudy ---> Sunny ---> Cloudy ---> Rainy ---> Cloudy ---> Cloudy ---> Sunny ---> Sunny ---> Sunny ---> Sunny ---> Sunny ---> Sunny ---> Sunny ---> Sunny ---> Sunny ---> Sunny ---> Cloudy ---> Cloudy ---> Sunny ---> Sunny ---> Sunny ---> Sunny ---> Sunny ---> Sunny ---> Sunny ---> Sunny ---> Cloudy ---> Cloudy ---> Sunny ---> Cloudy ---> Cloudy ---> Sunny ---> Sunny ---> Cloudy ---> Sunny ---> Sunny ---> Sunny ---> Sunny ---> Cloudy ---> Sunny ---> Sunny ---> Sunny ---> Cloudy ---> Cloudy ---> Cloudy ---> Sunny ---> Sunny ---> Sunny ---> Cloudy ---> Sunny ---> Sunny ---> Sunny ---> Cloudy ---> Rainy ---> Sunny ---> Sunny ---> Cloudy ---> Cloudy ---> Sunny ---> Sunny ---> Rainy ---> Sunny ---> Rainy ---> Sunny ---> Cloudy ---> Sunny ---> Sunny ---> Sunny ---> Sunny ---> Cloudy ---> Sunny ---> Sunny ---> Cloudy ---> Sunny ---> Rainy ---> Sunny ---> Sunny ---> Cloudy ---> Cloudy ---> Sunny ---> Cloudy ---> Sunny ---> Cloudy ---> Cloudy ---> Sunny ---> Cloudy ---> Rainy ---> Rainy ---> Sunny ---> Cloudy ---> Rainy ---> Cloudy ---> Cloudy ---> Sunny ---> Sunny ---> Rainy ---> Sunny ---> Sunny ---> Sunny ---> Sunny ---> Rainy ---> Rainy ---> Sunny ---> Sunny ---> Sunny ---> Sunny ---> Rainy ---> Sunny ---> Sunny ---> Sunny ---> Sunny ---> Sunny ---> Cloudy ---> Sunny ---> Sunny ---> Sunny ---> Sunny ---> Sunny ---> Cloudy ---> Sunny ---> Sunny ---> Sunny ---> Rainy ---> Sunny ---> Sunny ---> Sunny ---> Sunny ---> Cloudy ---> Rainy ---> Sunny ---> Sunny ---> Cloudy ---> Cloudy ---> Sunny ---> Rainy ---> Sunny ---> Sunny ---> Sunny ---> Cloudy ---> Cloudy ---> Cloudy ---> Sunny ---> Sunny ---> Sunny ---> Sunny ---> Sunny ---> Sunny ---> Sunny ---> Cloudy ---> Sunny ---> Sunny ---> Sunny ---> Sunny ---> Sunny ---> Cloudy ---> Sunny ---> Sunny ---> Snowy ---> Cloudy ---> Sunny ---> Sunny ---> Sunny ---> Cloudy ---> Sunny ---> Sunny ---> Cloudy ---> Sunny ---> Sunny ---> Sunny ---> Sunny ---> Rainy ---> Rainy ---> Rainy ---> Rainy ---> Rainy ---> Rainy ---> Sunny ---> Sunny ---> Cloudy ---> Sunny ---> Sunny ---> Rainy ---> Sunny ---> Sunny ---> Sunny ---> Rainy ---> Sunny ---> Sunny ---> Sunny ---> Sunny ---> Sunny ---> Sunny ---> Sunny ---> Sunny ---> Sunny ---> Sunny ---> Sunny ---> Sunny ---> Sunny ---> Cloudy ---> Rainy ---> Sunny ---> Sunny ---> Sunny ---> Cloudy ---> Sunny ---> Sunny ---> Sunny ---> Sunny ---> Sunny ---> Sunny ---> Sunny ---> Cloudy ---> Sunny ---> Sunny ---> Sunny ---> Sunny ---> Sunny ---> Sunny ---> Sunny ---> Sunny ---> Sunny ---> Sunny ---> Sunny ---> Cloudy ---> Sunny ---> Cloudy ---> Sunny ---> Sunny ---> Sunny ---> Cloudy ---> Sunny ---> Sunny ---> Sunny ---> Sunny ---> Sunny ---> Sunny ---> Sunny ---> Rainy ---> Sunny ---> Sunny ---> Cloudy ---> Rainy ---> Sunny ---> Sunny ---> Cloudy ---> Sunny ---> Sunny ---> Sunny ---> Cloudy ---> Sunny ---> Sunny ---> Sunny ---> Sunny ---> Sunny ---> Sunny ---> Cloudy ---> Sunny ---> Sunny ---> Rainy ---> Sunny ---> Sunny ---> Sunny ---> Rainy ---> Cloudy ---> Cloudy ---> Sunny ---> Cloudy ---> Rainy ---> Sunny ---> Sunny ---> Sunny ---> Cloudy"
     ]
    },
    {
     "name": "stdout",
     "output_type": "stream",
     "text": [
      " ---> Rainy ---> Sunny ---> Sunny ---> Sunny ---> Sunny ---> Cloudy ---> Cloudy ---> Sunny ---> Sunny ---> Sunny ---> Sunny ---> Rainy ---> Rainy ---> Sunny ---> Cloudy ---> Sunny ---> Snowy ---> Sunny ---> Sunny ---> Sunny ---> Rainy ---> Sunny ---> Sunny ---> Sunny ---> Cloudy ---> Cloudy ---> Sunny ---> Rainy ---> Sunny ---> Sunny ---> Sunny ---> Sunny ---> Sunny ---> Sunny ---> Cloudy ---> Rainy ---> "
     ]
    }
   ],
   "source": [
    "#SIMULATION APPROACH\n",
    "\n",
    "weather = {\n",
    "    0 : \"Sunny\",\n",
    "    1 : \"Cloudy\",\n",
    "    2 : \"Rainy\",\n",
    "    3 : \"Snowy\"\n",
    "}\n",
    "\n",
    "weights = np.array([0.65, 0.22, 0.11, 0.02])\n",
    "\n",
    "start = 0\n",
    "print(weather[start], \"--->\", end=\" \")\n",
    "prev = start\n",
    "\n",
    "n = 1000\n",
    "while n-1:\n",
    "    curr = np.random.choice([0, 1, 2, 3], p=weights)\n",
    "    print(weather[curr], \"--->\", end=\" \")\n",
    "    prev = curr\n",
    "    n -= 1"
   ]
  },
  {
   "cell_type": "code",
   "execution_count": null,
   "id": "1aa1257c",
   "metadata": {},
   "outputs": [],
   "source": []
  }
 ],
 "metadata": {
  "kernelspec": {
   "display_name": "Python 3 (ipykernel)",
   "language": "python",
   "name": "python3"
  },
  "language_info": {
   "codemirror_mode": {
    "name": "ipython",
    "version": 3
   },
   "file_extension": ".py",
   "mimetype": "text/x-python",
   "name": "python",
   "nbconvert_exporter": "python",
   "pygments_lexer": "ipython3",
   "version": "3.9.7"
  }
 },
 "nbformat": 4,
 "nbformat_minor": 5
}
