{
 "cells": [
  {
   "cell_type": "code",
   "execution_count": 17,
   "id": "4923b2ab",
   "metadata": {},
   "outputs": [],
   "source": [
    "import numpy as np\n",
    "from numpy.linalg import matrix_power\n",
    "from tabulate import tabulate\n",
    "\n",
    "#np.random.seed(1000)\n",
    "weatherStates = np.array(['Sunny', 'Cloudy', 'Rainy', 'Snowy'])\n",
    "\n",
    "#Transition matrix\n",
    "t = np.matrix([[0.65, 0.13, 0.08, 0.27], \n",
    "               [0.22, 0.55, 0.65, 0.55],\n",
    "               [0.11, 0.25, 0.25, 0.03],\n",
    "               [0.02, 0.07, 0.02, 0.15]])"
   ]
  },
  {
   "cell_type": "code",
   "execution_count": 25,
   "id": "a699690f",
   "metadata": {},
   "outputs": [
    {
     "name": "stdout",
     "output_type": "stream",
     "text": [
      "MATRIX MULTIPLICATION APPROACH:\n",
      "\n",
      "If the weather today is Sunny the probabilities on day 3 are:\n",
      "\n",
      "Weather      Probability\n",
      "---------  -------------\n",
      "Sunny             0.3689\n",
      "Cloudy            0.4119\n",
      "Rainy             0.1775\n",
      "Snowy             0.0417\n",
      "\n",
      "If the weather today is Sunny the probabilities on day 5 are:\n",
      "\n",
      "Weather      Probability\n",
      "---------  -------------\n",
      "Sunny             0.2928\n",
      "Cloudy            0.4637\n",
      "Rainy             0.1952\n",
      "Snowy             0.0483\n",
      "\n",
      "If the weather today is Sunny the probabilities on day 10 are:\n",
      "\n",
      "Weather      Probability\n",
      "---------  -------------\n",
      "Sunny             0.2657\n",
      "Cloudy            0.4821\n",
      "Rainy             0.2015\n",
      "Snowy             0.0506\n",
      "\n",
      "If the weather today is Sunny the probabilities on day 100 are:\n",
      "\n",
      "Weather      Probability\n",
      "---------  -------------\n",
      "Sunny             0.2646\n",
      "Cloudy            0.4829\n",
      "Rainy             0.2018\n",
      "Snowy             0.0507\n"
     ]
    }
   ],
   "source": [
    "#MATRIX MULTIPLICATION APPROACH\n",
    "\n",
    "def calcProbability(day, weatherToday):\n",
    "    today = np.zeros((4, 1))  \n",
    "    \n",
    "    for i in range(len(weatherStates)):\n",
    "        if(weatherStates[i] == weatherToday):\n",
    "            today[i] = 1\n",
    "            \n",
    "    p = np.matmul(matrix_power(t, day), today)\n",
    "    \n",
    "    print(f\"\\nIf the weather today is {weatherToday} the probabilities on day {day} are:\\n\")\n",
    "    \n",
    "    table = zip(weatherStates, p)\n",
    "    print(tabulate(table, headers=['Weather', 'Probability'], floatfmt=\".4f\"))\n",
    "    \n",
    "        \n",
    "print(\"MATRIX MULTIPLICATION APPROACH:\")\n",
    "today = 'Sunny'            \n",
    "calcProbability(3, today)\n",
    "calcProbability(5, today)\n",
    "calcProbability(10, today)\n",
    "calcProbability(100, today)"
   ]
  },
  {
   "cell_type": "code",
   "execution_count": 20,
   "id": "d805a884",
   "metadata": {},
   "outputs": [
    {
     "data": {
      "text/plain": [
       "'Sunny'"
      ]
     },
     "execution_count": 20,
     "metadata": {},
     "output_type": "execute_result"
    }
   ],
   "source": [
    "#SIMULATION APPROACH\n",
    "\n",
    "weights = np.array([0.65, 0.22, 0.11, 0.02])\n",
    "np.random.choice(weatherStates, p=weights)"
   ]
  },
  {
   "cell_type": "code",
   "execution_count": null,
   "id": "4e351ee6",
   "metadata": {},
   "outputs": [],
   "source": []
  }
 ],
 "metadata": {
  "kernelspec": {
   "display_name": "Python 3 (ipykernel)",
   "language": "python",
   "name": "python3"
  },
  "language_info": {
   "codemirror_mode": {
    "name": "ipython",
    "version": 3
   },
   "file_extension": ".py",
   "mimetype": "text/x-python",
   "name": "python",
   "nbconvert_exporter": "python",
   "pygments_lexer": "ipython3",
   "version": "3.9.7"
  }
 },
 "nbformat": 4,
 "nbformat_minor": 5
}
